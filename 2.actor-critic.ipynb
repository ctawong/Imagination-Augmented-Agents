{
  "nbformat": 4,
  "nbformat_minor": 0,
  "metadata": {
    "kernelspec": {
      "display_name": "Python [conda env:pytorch1.5]",
      "language": "python",
      "name": "conda-env-pytorch1.5-py"
    },
    "colab": {
      "name": "2.actor-critic.ipynb",
      "provenance": []
    },
    "accelerator": "GPU"
  },
  "cells": [
    {
      "cell_type": "code",
      "metadata": {
        "id": "sb4PIz2nx_Ix",
        "colab_type": "code",
        "colab": {
          "base_uri": "https://localhost:8080/",
          "height": 34
        },
        "outputId": "69ca506b-bcb1-456f-d293-ddc2aa80bbb0"
      },
      "source": [
        "!git clone https://github.com/ctawong/Imagination-Augmented-Agents.git"
      ],
      "execution_count": 1,
      "outputs": [
        {
          "output_type": "stream",
          "text": [
            "fatal: destination path 'Imagination-Augmented-Agents' already exists and is not an empty directory.\n"
          ],
          "name": "stdout"
        }
      ]
    },
    {
      "cell_type": "code",
      "metadata": {
        "id": "k0Xg4WTq7GmR",
        "colab_type": "code",
        "colab": {
          "base_uri": "https://localhost:8080/",
          "height": 369
        },
        "outputId": "a1b60b20-d8bc-465e-8766-411c451712c3"
      },
      "source": [
        "import subprocess\n",
        "print(subprocess.getoutput('/usr/bin/nvidia-smi'))"
      ],
      "execution_count": 1,
      "outputs": [
        {
          "output_type": "stream",
          "text": [
            "Sun Jun 28 12:35:01 2020       \n",
            "+-----------------------------------------------------------------------------+\n",
            "| NVIDIA-SMI 450.36.06    Driver Version: 418.67       CUDA Version: 10.1     |\n",
            "|-------------------------------+----------------------+----------------------+\n",
            "| GPU  Name        Persistence-M| Bus-Id        Disp.A | Volatile Uncorr. ECC |\n",
            "| Fan  Temp  Perf  Pwr:Usage/Cap|         Memory-Usage | GPU-Util  Compute M. |\n",
            "|                               |                      |               MIG M. |\n",
            "|===============================+======================+======================|\n",
            "|   0  Tesla K80           Off  | 00000000:00:04.0 Off |                    0 |\n",
            "| N/A   67C    P8    32W / 149W |      0MiB / 11441MiB |      0%      Default |\n",
            "|                               |                      |                 ERR! |\n",
            "+-------------------------------+----------------------+----------------------+\n",
            "                                                                               \n",
            "+-----------------------------------------------------------------------------+\n",
            "| Processes:                                                                  |\n",
            "|  GPU   GI   CI        PID   Type   Process name                  GPU Memory |\n",
            "|        ID   ID                                                   Usage      |\n",
            "|=============================================================================|\n",
            "|  No running processes found                                                 |\n",
            "+-----------------------------------------------------------------------------+\n"
          ],
          "name": "stdout"
        }
      ]
    },
    {
      "cell_type": "code",
      "metadata": {
        "id": "8zKj4hxpzpQ_",
        "colab_type": "code",
        "colab": {}
      },
      "source": [
        "import sys\n",
        "sys.path.append('/content/Imagination-Augmented-Agents')\n",
        "sys.path.append('/content/Imagination-Augmented-Agents/common')\n",
        "import os\n",
        "os.chdir('Imagination-Augmented-Agents')"
      ],
      "execution_count": 2,
      "outputs": []
    },
    {
      "cell_type": "code",
      "metadata": {
        "id": "E6MBG_t_xwsM",
        "colab_type": "code",
        "colab": {}
      },
      "source": [
        "import numpy as np\n",
        "import sys\n",
        "#sys.path.append('./common')\n",
        "import torch\n",
        "import torch.nn as nn\n",
        "import torch.optim as optim\n",
        "import torch.nn.functional as F\n",
        "import torch.autograd as autograd\n",
        "\n",
        "from common.multiprocessing_env import SubprocVecEnv\n",
        "from common.minipacman import MiniPacman"
      ],
      "execution_count": 3,
      "outputs": []
    },
    {
      "cell_type": "code",
      "metadata": {
        "id": "7iasPekTxwsR",
        "colab_type": "code",
        "colab": {}
      },
      "source": [
        "from IPython.display import clear_output\n",
        "import matplotlib.pyplot as plt\n",
        "%matplotlib inline"
      ],
      "execution_count": 4,
      "outputs": []
    },
    {
      "cell_type": "markdown",
      "metadata": {
        "id": "bwZbrKrdxwsU",
        "colab_type": "text"
      },
      "source": [
        "<h4>USE CUDA</h4>"
      ]
    },
    {
      "cell_type": "code",
      "metadata": {
        "id": "EE9o1M57xwsV",
        "colab_type": "code",
        "colab": {}
      },
      "source": [
        "USE_CUDA = torch.cuda.is_available()\n",
        "Variable = lambda *args, **kwargs: autograd.Variable(*args, **kwargs).cuda() if USE_CUDA else autograd.Variable(*args, **kwargs)"
      ],
      "execution_count": 5,
      "outputs": []
    },
    {
      "cell_type": "markdown",
      "metadata": {
        "id": "lBBA_hV-xwsY",
        "colab_type": "text"
      },
      "source": [
        "<h1>Actor Critic Algorithm</h1>"
      ]
    },
    {
      "cell_type": "markdown",
      "metadata": {
        "id": "NFHgCyVGxwsZ",
        "colab_type": "text"
      },
      "source": [
        "<h2>Abstract A2C class</h2>"
      ]
    },
    {
      "cell_type": "code",
      "metadata": {
        "id": "H6XO7QYcxwsZ",
        "colab_type": "code",
        "colab": {}
      },
      "source": [
        "class OnPolicy(nn.Module):\n",
        "    def __init__(self):\n",
        "        super(OnPolicy, self).__init__()\n",
        "        \n",
        "    def forward(self, x):\n",
        "        raise NotImplementedError\n",
        "        \n",
        "    def act(self, x, deterministic=False):\n",
        "        logit, value = self.forward(x)\n",
        "        probs = F.softmax(logit)\n",
        "        \n",
        "        if deterministic:\n",
        "            action = probs.max(1)[1]\n",
        "        else:\n",
        "            action = probs.multinomial(1)\n",
        "        \n",
        "        return action\n",
        "    \n",
        "    def evaluate_actions(self, x, action):\n",
        "        logit, value = self.forward(x)\n",
        "        \n",
        "        probs     = F.softmax(logit)\n",
        "        log_probs = F.log_softmax(logit)\n",
        "        \n",
        "        action_log_probs = log_probs.gather(1, action)\n",
        "        entropy = -(probs * log_probs).sum(1).mean()\n",
        "        \n",
        "        return logit, action_log_probs, value, entropy"
      ],
      "execution_count": 6,
      "outputs": []
    },
    {
      "cell_type": "markdown",
      "metadata": {
        "id": "v4rItQG4xwsd",
        "colab_type": "text"
      },
      "source": [
        "<h2>Neural Network architecture for A2C</h2>"
      ]
    },
    {
      "cell_type": "code",
      "metadata": {
        "id": "0CTgyOfRxwsd",
        "colab_type": "code",
        "colab": {}
      },
      "source": [
        "class ActorCritic(OnPolicy):\n",
        "    def __init__(self, in_shape, num_actions):\n",
        "        super(ActorCritic, self).__init__()\n",
        "        \n",
        "        self.in_shape = in_shape\n",
        "        \n",
        "        self.features = nn.Sequential(\n",
        "            nn.Conv2d(in_shape[0], 16, kernel_size=3, stride=1),\n",
        "            nn.ReLU(),\n",
        "            nn.Conv2d(16, 16, kernel_size=3, stride=2),\n",
        "            nn.ReLU(),\n",
        "        )\n",
        "        \n",
        "        self.fc = nn.Sequential(\n",
        "            nn.Linear(self.feature_size(), 256),\n",
        "            nn.ReLU(),\n",
        "        )\n",
        "        \n",
        "        self.critic  = nn.Linear(256, 1)\n",
        "        self.actor   = nn.Linear(256, num_actions)\n",
        "        \n",
        "    def forward(self, x):\n",
        "        x = self.features(x)\n",
        "        x = x.view(x.size(0), -1)\n",
        "        x = self.fc(x)\n",
        "        logit = self.actor(x)\n",
        "        value = self.critic(x)\n",
        "        return logit, value\n",
        "    \n",
        "    def feature_size(self):\n",
        "        return self.features(autograd.Variable(torch.zeros(1, *self.in_shape))).view(1, -1).size(1)"
      ],
      "execution_count": 7,
      "outputs": []
    },
    {
      "cell_type": "markdown",
      "metadata": {
        "id": "R4OWqmcqxwsg",
        "colab_type": "text"
      },
      "source": [
        "<h2>Simple class to save expirience for A2C update</h2>"
      ]
    },
    {
      "cell_type": "code",
      "metadata": {
        "id": "kbgXcK3Kxwsh",
        "colab_type": "code",
        "colab": {}
      },
      "source": [
        "# @ikostrikov style\n",
        "\n",
        "class RolloutStorage(object):\n",
        "    def __init__(self, num_steps, num_envs, state_shape):\n",
        "        self.num_steps = num_steps\n",
        "        self.num_envs  = num_envs\n",
        "        self.states  = torch.zeros(num_steps + 1, num_envs, *state_shape)\n",
        "        self.rewards = torch.zeros(num_steps,     num_envs, 1)\n",
        "        self.masks   = torch.ones(num_steps  + 1, num_envs, 1)\n",
        "        self.actions = torch.zeros(num_steps,     num_envs, 1).long()\n",
        "        self.use_cuda = False\n",
        "            \n",
        "    def cuda(self):\n",
        "        self.use_cuda  = True\n",
        "        self.states    = self.states.cuda()\n",
        "        self.rewards   = self.rewards.cuda()\n",
        "        self.masks     = self.masks.cuda()\n",
        "        self.actions   = self.actions.cuda()\n",
        "        \n",
        "    def insert(self, step, state, action, reward, mask):\n",
        "        self.states[step + 1].copy_(state)\n",
        "        self.actions[step].copy_(action)\n",
        "        self.rewards[step].copy_(reward)\n",
        "        self.masks[step + 1].copy_(mask)\n",
        "        \n",
        "    def after_update(self):\n",
        "        self.states[0].copy_(self.states[-1])\n",
        "        self.masks[0].copy_(self.masks[-1])\n",
        "        \n",
        "    def compute_returns(self, next_value, gamma):\n",
        "        returns   = torch.zeros(self.num_steps + 1, self.num_envs, 1)\n",
        "        if self.use_cuda:\n",
        "            returns = returns.cuda()\n",
        "        returns[-1] = next_value\n",
        "        for step in reversed(range(self.num_steps)):\n",
        "            returns[step] = returns[step + 1] * gamma * self.masks[step + 1] + self.rewards[step]\n",
        "        return returns[:-1]"
      ],
      "execution_count": 8,
      "outputs": []
    },
    {
      "cell_type": "markdown",
      "metadata": {
        "id": "EGGhDeE7xwsl",
        "colab_type": "text"
      },
      "source": [
        "<h1>Creating environments</h1>"
      ]
    },
    {
      "cell_type": "code",
      "metadata": {
        "id": "HkBaiWq0xwsm",
        "colab_type": "code",
        "colab": {}
      },
      "source": [
        "mode = \"regular\"\n",
        "num_envs = 16\n",
        "\n",
        "def make_env():\n",
        "    def _thunk():\n",
        "        env = MiniPacman(mode, 1000)\n",
        "        return env\n",
        "\n",
        "    return _thunk\n",
        "\n",
        "envs = [make_env() for i in range(num_envs)]\n",
        "envs = SubprocVecEnv(envs)\n",
        "\n",
        "state_shape = envs.observation_space.shape"
      ],
      "execution_count": 9,
      "outputs": []
    },
    {
      "cell_type": "markdown",
      "metadata": {
        "id": "fG3BkqUtxwsy",
        "colab_type": "text"
      },
      "source": [
        "<h2>Init and Train</h2>"
      ]
    },
    {
      "cell_type": "code",
      "metadata": {
        "id": "MjSmwX4Cxwsy",
        "colab_type": "code",
        "colab": {}
      },
      "source": [
        "#a2c hyperparams:\n",
        "gamma = 0.99\n",
        "entropy_coef = 0.01\n",
        "value_loss_coef = 0.5\n",
        "max_grad_norm = 0.5\n",
        "num_steps = 5\n",
        "num_frames = int(10e5)\n",
        "\n",
        "#rmsprop hyperparams:\n",
        "lr    = 7e-4\n",
        "eps   = 1e-5\n",
        "alpha = 0.99\n",
        "\n",
        "#Init a2c and rmsprop\n",
        "actor_critic = ActorCritic(envs.observation_space.shape, envs.action_space.n)\n",
        "optimizer = optim.RMSprop(actor_critic.parameters(), lr, eps=eps, alpha=alpha)\n",
        "    \n",
        "if USE_CUDA:\n",
        "    actor_critic = actor_critic.cuda()"
      ],
      "execution_count": 10,
      "outputs": []
    },
    {
      "cell_type": "code",
      "metadata": {
        "id": "NCq63Kmhxws1",
        "colab_type": "code",
        "colab": {}
      },
      "source": [
        "rollout = RolloutStorage(num_steps, num_envs, envs.observation_space.shape)\n",
        "rollout.cuda()\n",
        "\n",
        "all_rewards = []\n",
        "all_losses  = []"
      ],
      "execution_count": 11,
      "outputs": []
    },
    {
      "cell_type": "code",
      "metadata": {
        "id": "Vh-mgP48xws3",
        "colab_type": "code",
        "colab": {
          "base_uri": "https://localhost:8080/",
          "height": 336
        },
        "outputId": "514944cd-aa45-4b5a-b626-26dcf73041ef"
      },
      "source": [
        "import time\n",
        "state = envs.reset()\n",
        "state = torch.FloatTensor(np.float32(state))\n",
        "\n",
        "rollout.states[0].copy_(state)\n",
        "\n",
        "episode_rewards = torch.zeros(num_envs, 1)\n",
        "final_rewards   = torch.zeros(num_envs, 1)\n",
        "start_time = time.time()\n",
        "for i_update in range(num_frames):\n",
        "\n",
        "    for step in range(num_steps):\n",
        "        action = actor_critic.act(Variable(state))\n",
        "\n",
        "        next_state, reward, done, _ = envs.step(action.squeeze(1).cpu().data.numpy())\n",
        "\n",
        "        reward = torch.FloatTensor(reward).unsqueeze(1)\n",
        "        episode_rewards += reward\n",
        "        masks = torch.FloatTensor(1-np.array(done)).unsqueeze(1)\n",
        "        final_rewards *= masks\n",
        "        final_rewards += (1-masks) * episode_rewards\n",
        "        episode_rewards *= masks\n",
        "\n",
        "        if USE_CUDA:\n",
        "            masks = masks.cuda()\n",
        "\n",
        "        state = torch.FloatTensor(np.float32(next_state))\n",
        "        rollout.insert(step, state, action.data, reward, masks)\n",
        "\n",
        "\n",
        "    _, next_value = actor_critic(Variable(rollout.states[-1], volatile=True))\n",
        "    next_value = next_value.data\n",
        "\n",
        "    returns = rollout.compute_returns(next_value, gamma)\n",
        "\n",
        "    logit, action_log_probs, values, entropy = actor_critic.evaluate_actions(\n",
        "        Variable(rollout.states[:-1]).view(-1, *state_shape),\n",
        "        Variable(rollout.actions).view(-1, 1)\n",
        "    )\n",
        "\n",
        "    values = values.view(num_steps, num_envs, 1)\n",
        "    action_log_probs = action_log_probs.view(num_steps, num_envs, 1)\n",
        "    advantages = Variable(returns) - values\n",
        "\n",
        "    value_loss = advantages.pow(2).mean()\n",
        "    action_loss = -(Variable(advantages.data) * action_log_probs).mean()\n",
        "\n",
        "    optimizer.zero_grad()\n",
        "    loss = value_loss * value_loss_coef + action_loss - entropy * entropy_coef\n",
        "    loss.backward()\n",
        "    nn.utils.clip_grad_norm(actor_critic.parameters(), max_grad_norm)\n",
        "    optimizer.step()\n",
        "    \n",
        "    if i_update % 100 == 0:\n",
        "        all_rewards.append(final_rewards.mean())\n",
        "        #all_losses.append(loss.data[0])\n",
        "        all_losses.append(loss.data)\n",
        "        \n",
        "        clear_output(True)\n",
        "        plt.figure(figsize=(20,5))\n",
        "        plt.subplot(131)\n",
        "        plt.title('epoch %s. reward: %s' % (i_update, np.mean(all_rewards[-10:])))\n",
        "        plt.plot(all_rewards)\n",
        "        plt.subplot(132)\n",
        "        plt.title('loss %s' % all_losses[-1])\n",
        "        plt.plot(all_losses)\n",
        "        plt.show()\n",
        "        dt = time.time()-start_time\n",
        "        try:\n",
        "            print('i_update %d: time %1.1f, time per step: %1.2f'%(i_update, dt/i_update) )\n",
        "        except:\n",
        "            pass\n",
        "        \n",
        "    rollout.after_update()"
      ],
      "execution_count": null,
      "outputs": [
        {
          "output_type": "display_data",
          "data": {
            "image/png": "[encoded data removed]",
            "text/plain": [
              "<Figure size 1440x360 with 2 Axes>"
            ]
          },
          "metadata": {
            "tags": [],
            "needs_background": "light"
          }
        }
      ]
    },
    {
      "cell_type": "code",
      "metadata": {
        "id": "049w7CDbxws6",
        "colab_type": "code",
        "colab": {}
      },
      "source": [
        "1"
      ],
      "execution_count": null,
      "outputs": []
    },
    {
      "cell_type": "markdown",
      "metadata": {
        "id": "el0IdfBsxwtA",
        "colab_type": "text"
      },
      "source": [
        "<h1>Saving the model!</h1>"
      ]
    },
    {
      "cell_type": "code",
      "metadata": {
        "id": "4TNl6j0zxwtB",
        "colab_type": "code",
        "colab": {}
      },
      "source": [
        "torch.save(actor_critic.state_dict(), \"actor_critic_\" + mode)"
      ],
      "execution_count": null,
      "outputs": []
    },
    {
      "cell_type": "markdown",
      "metadata": {
        "id": "tnOTCvSlxwtD",
        "colab_type": "text"
      },
      "source": [
        "<h1>Let's see the game!<h1>"
      ]
    },
    {
      "cell_type": "code",
      "metadata": {
        "id": "G4CVsa5VxwtE",
        "colab_type": "code",
        "colab": {}
      },
      "source": [
        "import time \n",
        "\n",
        "def displayImage(image, step, reward):\n",
        "    clear_output(True)\n",
        "    s = \"step: \" + str(step) + \" reward: \" + str(reward)\n",
        "    plt.figure(figsize=(10,3))\n",
        "    plt.title(s)\n",
        "    plt.imshow(image)\n",
        "    plt.show()\n",
        "    time.sleep(0.1)"
      ],
      "execution_count": null,
      "outputs": []
    },
    {
      "cell_type": "code",
      "metadata": {
        "id": "JhRTeGwSxwtG",
        "colab_type": "code",
        "colab": {}
      },
      "source": [
        "env = MiniPacman(mode, 1000)\n",
        "\n",
        "done = False\n",
        "state = env.reset()\n",
        "total_reward = 0\n",
        "step   = 1\n",
        "\n",
        "\n",
        "while not done:\n",
        "    current_state = torch.FloatTensor(state).unsqueeze(0)\n",
        "    if USE_CUDA:\n",
        "        current_state = current_state.cuda()\n",
        "        \n",
        "    action = actor_critic.act(Variable(current_state))\n",
        "    \n",
        "    next_state, reward, done, _ = env.step(action.data[0, 0])\n",
        "    total_reward += reward\n",
        "    state = next_state\n",
        "    \n",
        "    image = torch.FloatTensor(state).permute(1, 2, 0).cpu().numpy()\n",
        "    displayImage(image, step, total_reward)\n",
        "    step += 1"
      ],
      "execution_count": null,
      "outputs": []
    },
    {
      "cell_type": "code",
      "metadata": {
        "id": "winXo4DjxwtP",
        "colab_type": "code",
        "colab": {}
      },
      "source": [
        "1"
      ],
      "execution_count": null,
      "outputs": []
    }
  ]
}